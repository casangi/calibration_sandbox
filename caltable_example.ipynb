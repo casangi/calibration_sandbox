{
 "cells": [
  {
   "cell_type": "code",
   "execution_count": null,
   "id": "6e4714df-ebca-4a58-bb19-c2e931f168f4",
   "metadata": {},
   "outputs": [],
   "source": [
    "import toolviper\n",
    "import calviper\n",
    "\n",
    "import numpy as np\n",
    "import xarray as xr\n",
    "\n",
    "from calviper.table import CalibrationTable\n",
    "\n",
    "from xradio.correlated_data.convert_msv2_to_processing_set import convert_msv2_to_processing_set\n",
    "from xradio.correlated_data import open_processing_set"
   ]
  },
  {
   "cell_type": "code",
   "execution_count": null,
   "id": "24a3971d-c7d5-4aef-92dc-d90bf2750498",
   "metadata": {
    "scrolled": true
   },
   "outputs": [],
   "source": [
    "toolviper.utils.data.download(file=\"Antennae_North.cal.lsrk.split.ms\")\n",
    "\n",
    "_ = convert_msv2_to_processing_set(\n",
    "    in_file=\"data/Antennae_North.cal.lsrk.split.ms\",\n",
    "    out_file=\"data/Antennae_North.cal.lsrk.split.vis.zarr\",\n",
    "    parallel=False,\n",
    "    overwrite=True,\n",
    "    main_chunksize={\n",
    "        \"frequency\": 3\n",
    "    },\n",
    ")"
   ]
  },
  {
   "cell_type": "code",
   "execution_count": null,
   "id": "4077e188-728a-4c90-9d31-812b9c888756",
   "metadata": {
    "scrolled": true
   },
   "outputs": [],
   "source": [
    "ps = open_processing_set(\n",
    "    ps_store=\"data/Antennae_North.cal.lsrk.split.vis.zarr\",\n",
    "    intents=[\"OBSERVE_TARGET#ON_SOURCE\"],\n",
    ")\n",
    "\n",
    "#ps.summary()"
   ]
  },
  {
   "cell_type": "code",
   "execution_count": null,
   "id": "eebfc16c-13ec-4a31-830c-5cac52d77863",
   "metadata": {},
   "outputs": [],
   "source": [
    "mxds = ps[\"Antennae_North.cal.lsrk.split_00\"]"
   ]
  },
  {
   "cell_type": "code",
   "execution_count": null,
   "id": "166e3370-c008-44e0-915d-2e1304c228df",
   "metadata": {},
   "outputs": [],
   "source": [
    "ctable = CalibrationTable()"
   ]
  },
  {
   "cell_type": "markdown",
   "id": "9b59cde0-08b5-4f47-b347-2c7b14273543",
   "metadata": {},
   "source": [
    "### Create empty calibration table xarray dataset from another xarray dataset"
   ]
  },
  {
   "cell_type": "code",
   "execution_count": null,
   "id": "5b45168e-4a4c-4530-b219-a9203db6609d",
   "metadata": {},
   "outputs": [],
   "source": [
    "ctable.create_table(factory=\"gain\").empty_like(dataset=mxds)"
   ]
  },
  {
   "cell_type": "code",
   "execution_count": null,
   "id": "71eab5d3-7a10-4939-8472-7065f4154c8a",
   "metadata": {},
   "outputs": [],
   "source": [
    "ncoords = {\n",
    "    \"time\": mxds.coords[\"time\"].values,\n",
    "    \"antenna\": mxds.antenna_xds.antenna_name.values,\n",
    "    \"frequency\": mxds.coords[\"frequency\"].values,\n",
    "    \"polarization\": np.array([\"R\", \"L\"]),\n",
    "    \"gain\": np.empty([1])\n",
    "}"
   ]
  },
  {
   "cell_type": "markdown",
   "id": "87999cf3-74d9-4564-984e-d0e9cd2458b7",
   "metadata": {},
   "source": [
    "### Create calibration data set with simulated (random) values from coordinates."
   ]
  },
  {
   "cell_type": "code",
   "execution_count": null,
   "id": "9a7cbdba-9038-4923-ae61-7ed94cd1ab5f",
   "metadata": {},
   "outputs": [],
   "source": [
    "ctable.create_table(factory=\"gain\").generate(ncoords)"
   ]
  }
 ],
 "metadata": {
  "kernelspec": {
   "display_name": "Python 3 (ipykernel)",
   "language": "python",
   "name": "python3"
  },
  "language_info": {
   "codemirror_mode": {
    "name": "ipython",
    "version": 3
   },
   "file_extension": ".py",
   "mimetype": "text/x-python",
   "name": "python",
   "nbconvert_exporter": "python",
   "pygments_lexer": "ipython3",
   "version": "3.9.20"
  }
 },
 "nbformat": 4,
 "nbformat_minor": 5
}
